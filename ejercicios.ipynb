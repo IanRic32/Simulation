{
 "cells": [
  {
   "cell_type": "markdown",
   "id": "31080f1f",
   "metadata": {},
   "source": [
    "Estimar por simulacion $\\sqrt{3}$ Cuantos ensayor tiene que realizar para asegurar que la probabilidad de tener un error mayor o igual que 0.01 sea menor que 0.1?"
   ]
  },
  {
   "cell_type": "markdown",
   "id": "416bc0e0",
   "metadata": {},
   "source": [
    "Sabemos que para generar un numero aleatorio entre 1 y 2 tenemos 1+random (0,1), lo que nos da un conjunto de numeros aleatorios uniformemente distribuidos entre 1 y 2, ademas se conoce que:<br>\n",
    "$x^2=n$ con $x=\\sqrt{n}$ entonces x debe de ser aproximado a n que es la raiz del numero buscado, por la distribucion uniforma sabemos que los valores proximos a n deben de ser n-1 +random, esto es:<br>\n",
    "x<3-1   x<2, por lo cual los numeros aleatorios deben de estar entre 1 y 2, en programa tenemos"
   ]
  },
  {
   "cell_type": "code",
   "execution_count": 1,
   "id": "6ca97c71",
   "metadata": {},
   "outputs": [],
   "source": [
    "from random import random\n",
    "import matplotlib.pyplot as plt\n",
    "from math import sqrt"
   ]
  },
  {
   "cell_type": "code",
   "execution_count": 2,
   "id": "660a7bf5",
   "metadata": {},
   "outputs": [
    {
     "data": {
      "image/png": "[encoded data removed]",
      "text/plain": [
       "<Figure size 432x288 with 1 Axes>"
      ]
     },
     "metadata": {
      "needs_background": "light"
     },
     "output_type": "display_data"
    },
    {
     "name": "stdout",
     "output_type": "stream",
     "text": [
      "1.7318468999999999\n"
     ]
    }
   ],
   "source": [
    "N=10000000\n",
    "n=0\n",
    "lx=[]\n",
    "ly=[]\n",
    "lsqrt=[]\n",
    "for i in range(N):\n",
    "    x=1+random()\n",
    "    if x**2<3:\n",
    "        n=n+1\n",
    "        if i%10000==0 and i>0:\n",
    "            lx.append(i)\n",
    "            ly.append(n/i+1)\n",
    "            lsqrt.append(sqrt(3))\n",
    "plt.plot(lx,ly)\n",
    "plt.plot(lx,lsqrt)\n",
    "plt.xlabel(\"\")\n",
    "plt.ylabel(r\"Aproximación de $\\sqrt{3}$\")\n",
    "plt.grid()\n",
    "plt.legend([r\"Aproximaci$\\'on$ de $\\sqrt{3}$\",r\"$\\sqrt{3}$\"])\n",
    "plt.title(r\"Aproximación de $\\sqrt{3}$ por simulaci$\\'o$n\")\n",
    "plt.show()\n",
    "print(n/N+1)"
   ]
  },
  {
   "cell_type": "markdown",
   "id": "2abdfca1",
   "metadata": {},
   "source": [
    "ahora bien, tenemos que\n",
    "$x_i=1$ si cae dentro de $[1,\\sqrt{3}]$ y 0 en caso contrario.\n",
    "como son experimentos independientes tenemos.<br><br>"
   ]
  },
  {
   "cell_type": "markdown",
   "id": "5ca0e6d9",
   "metadata": {},
   "source": [
    "$\\hat{Z_m}=\\frac{x_1+x_2+x_3+...+x_n}{N}+1$<br><br>\n",
    "$E(\\hat{Z_m})=\\frac{1}{N}Np+1$<br><br>\n",
    "$E(\\hat{Z_m})=\\sqrt{3}-1+1=\\sqrt{3}$<br><br>\n",
    "$V(\\hat{Z_m})=\\frac{1}{N^2}(N(p(1-p))$<br><br>\n",
    "$V(\\hat{Z_m})=\\frac{p(1-p)}{N^2}$<br><br>\n",
    "P(|$\\hat{Z_m}$-$\\sqrt{3}$| $\\geq$ 0.1)$\\leq \\frac{v(x)}{N(0.1)^2}<0.01$<br>\n",
    "$\\frac{p(1-p)}{N(0.1)^2}<0.01$<br><br>\n",
    "$\\frac{1}{(0.01)(0.1)^2}<N$<br><br>\n",
    "$N=10,000$"
   ]
  },
  {
   "cell_type": "markdown",
   "id": "01645556",
   "metadata": {},
   "source": [
    "2-. Estime por simulacion el volumen de una esfera de radio 1<br>\n",
    "Sabemos que el volumen de una esfera es $V=\\frac{4}{3}\\left(\\pi r^3\\right)$<br>\n",
    "Por lo cual, tenemos a traves del calculo de pi, lo siguiente:"
   ]
  },
  {
   "cell_type": "code",
   "execution_count": 3,
   "id": "3a9b3317",
   "metadata": {},
   "outputs": [
    {
     "name": "stdout",
     "output_type": "stream",
     "text": [
      "El volumen de la esfera, calculado por simulación es:\tV=4.188478933333333\n"
     ]
    }
   ],
   "source": [
    "n=0\n",
    "v=0\n",
    "for i in range(N):\n",
    "    w=random()\n",
    "    y=random()\n",
    "    if w**2+y**2<1:\n",
    "        n+=1\n",
    "print(\"El volumen de la esfera, calculado por simulación es:\\tV={:}\".format(4/3*(4*n/N)*1**3))"
   ]
  },
  {
   "cell_type": "markdown",
   "id": "20eaf9d7",
   "metadata": {},
   "source": [
    "3-. Se define a la variable aleatoria N como:\n",
    "<center>N=Minimo{$n:U_1+U_2+U_3+...+U_n>1$}</center><br>\n",
    "Donde los $U_1, U_2, U_3, ..., U_n$ son uniformemente distribuidos en $[0,1]$<br>\n",
    "Estime por simulación el valor esperado de N.<br><br>\n",
    "Dé un intervalo de confianza del 90% para E(N)<br><br><br>\n",
    "Solucion"
   ]
  },
  {
   "cell_type": "code",
   "execution_count": 7,
   "id": "f016eb7c",
   "metadata": {},
   "outputs": [
    {
     "name": "stdout",
     "output_type": "stream",
     "text": [
      "N=2.7183391\n",
      "El intervalo de confianza del 90% es:\n",
      "[2.7183391-2.805e-07,2.7183391+2.805e-07]\t===>[2.7183388194934968,2.7183393805065035]\n"
     ]
    }
   ],
   "source": [
    "s=0\n",
    "contador=0\n",
    "ss=0\n",
    "va=0\n",
    "for i in range (N):\n",
    "    ss+=contador\n",
    "    s=0\n",
    "    contador=0\n",
    "    while s<1:\n",
    "        s=s+random()\n",
    "        contador=contador+1\n",
    "        va=va+(s-ss/N)**2\n",
    "varianza=sqrt(1/(N-1)*va)\n",
    "print(\"N={:}\".format(ss/N))\n",
    "print(\"El intervalo de confianza del 90% es:\\n[{:}-{:.3e},{:}+{:.3e}]\\t===>[{:},{:}]\".format(\n",
    "    ss/N,1.645*varianza/N,ss/N,1.645*varianza/N,ss/N-1.645*varianza/N,ss/N+1.645*varianza/N))"
   ]
  },
  {
   "cell_type": "markdown",
   "id": "39030904",
   "metadata": {},
   "source": [
    "4-.Estime por simulacion el valor de las siguientes integrales:<br>\n",
    "<ol>\n",
    "    <li>$\\int_0^1\\sqrt{1+x^3}dx$</li>\n",
    "    <li>$\\int_3^5 e^{-x^2}dx$</li>\n",
    "    <li>$\\int_{0.5}^1\\frac{sin(x)}{x}dx$</li>\n",
    "    <li>$\\int_0^\\infty e^{-x^2}dx$</li>\n",
    "    <li>$\\int_{-\\infty}^\\infty e^{-x^2}dx$</li>\n",
    "    <li>$\\int_2^\\infty e^{-x^2}dx$</li>\n",
    " </ol>"
   ]
  },
  {
   "cell_type": "code",
   "execution_count": 8,
   "id": "731e94d7",
   "metadata": {},
   "outputs": [
    {
     "name": "stdout",
     "output_type": "stream",
     "text": [
      "El valor de 1 es: 1.1117362483178834\n",
      "El valor de 2 es: 1.9545040628626623e-05\n",
      "El valor de 3 es: 0.45294354243922613\n",
      "El valor de 4 es: 0.886444636570451\n",
      "El valor de 5 es: 1.772889273140902\n",
      "El valor de 6 es: 0.005252396078114682\n",
      "\n"
     ]
    }
   ],
   "source": [
    "from random import random\n",
    "from math import sqrt, exp,sin\n",
    "integral1=0\n",
    "integral2=0\n",
    "integral3=0\n",
    "integral4=0\n",
    "integral5=0\n",
    "integral6=0\n",
    "N=1000000\n",
    "for i in range(N):\n",
    "    x=random()\n",
    "    integral1=integral1+sqrt(1+x**3)\n",
    "    integral2=integral2+(5-3)*exp(-(3+(5-3)*x)**2)\n",
    "    integral3=integral3+(1-0.5)*sin((0.5+(1-0.5)*x))/(0.5+(1-0.5)*x)\n",
    "    integral4=integral4+exp(-(1/x-1)**2)/x**2\n",
    "    integral5=integral5+2*exp(-(1/x-1)**2)*1/x**2\n",
    "    integral6=integral6+(exp(-(1/x-1)**2)/x**2-2*exp(-(2*x)**2))\n",
    "print(\"El valor de 1 es: {:}\\nEl valor de 2 es: {:}\\nEl valor de 3 es: {:}\".format(integral1/N,integral2/N,integral3/N))\n",
    "print(\"El valor de 4 es: {:}\\nEl valor de 5 es: {:}\\nEl valor de 6 es: {:}\\n\".format(integral4/N,integral5/N,\n",
    "                                                                                     (integral6)/N))"
   ]
  },
  {
   "cell_type": "markdown",
   "id": "c293ce08",
   "metadata": {},
   "source": [
    "5-. $X$ sigue una distribucion geometrica con parametro $p=0.2$. \n",
    "Estime por simulacion el valor esperado de $\\sqrt{1+x}$.\n",
    "De un intervalo de confianza del 95% para la estimacion de E($\\sqrt{1+x}$ )"
   ]
  },
  {
   "cell_type": "markdown",
   "id": "ffb10aa4",
   "metadata": {},
   "source": [
    "Primero debemos de generar la variable aleatoria, para despues estimar su valor esperado"
   ]
  },
  {
   "cell_type": "code",
   "execution_count": 9,
   "id": "70efd45a",
   "metadata": {},
   "outputs": [],
   "source": [
    "from math import log\n",
    "import numpy as np\n",
    "def geometrica(p):\n",
    "    u=random()\n",
    "    return int(log(1-u)/log(1-p))+1"
   ]
  },
  {
   "cell_type": "code",
   "execution_count": 10,
   "id": "ac3a6dea",
   "metadata": {},
   "outputs": [
    {
     "name": "stdout",
     "output_type": "stream",
     "text": [
      "El intervalo de confianza es: [2.5388932361787804-1.65*5.656904683435026e-05,2.5388932361787804+1.65*5.656904683435026e-05]\n",
      "El intervalo de confianza es: [2.538799897251504,2.538986575106057]\n"
     ]
    }
   ],
   "source": [
    "s=0\n",
    "s2=0\n",
    "var=0\n",
    "N=100000\n",
    "n=[]\n",
    "var=0\n",
    "varr=[]\n",
    "for i in range(N):\n",
    "    x=1+geometrica(0.2)\n",
    "    s=s+sqrt(1+x)\n",
    "    varr.append(x)\n",
    "for i in varr:\n",
    "    var=var+(i-s/N)**2\n",
    "#print(\"[{:}-1.65*{:},{:}+1.65*{:}]\".format(s/N,varianza/(N*sqrt(N)),s/N,varianza/(N*sqrt(N))))\n",
    "#print(s/N-1.65*varianza/(N*sqrt(N)))\n",
    "print(\"El intervalo de confianza es: [{:}-1.65*{:},{:}+1.65*{:}]\".format(s/N,sqrt(var*1/(N-1))/(N),s/N,sqrt(var*1/(N-1))/(N)))\n",
    "print(\"El intervalo de confianza es: [{:},{:}]\".format(s/N-1.65*sqrt(var*1/(N-1))/(N),s/N+1.65*sqrt(var*1/(N-1))/(N)))"
   ]
  },
  {
   "cell_type": "markdown",
   "id": "c7f099ae",
   "metadata": {},
   "source": [
    "6-.X sigue la siguiente funcion de distribucion de densidad de probabilidad:<br>\n",
    "|x|1||2|3|4|<br>\n",
    "|P(X=x)|0.1|0.1|0.3|0.5|<br>\n",
    "Estime por simulacion el valor esperado de $\\frac{1}{1+x^2}$"
   ]
  },
  {
   "cell_type": "markdown",
   "id": "40f6c01f",
   "metadata": {},
   "source": [
    "Solucion<br>\n",
    "Generamos la variable aleatoria con numeros aleatorios y despue calculamos sus valor esperado"
   ]
  },
  {
   "cell_type": "code",
   "execution_count": 11,
   "id": "a1991a9c",
   "metadata": {},
   "outputs": [],
   "source": [
    "def fdp():\n",
    "    u=random()\n",
    "    if u<=0.1:\n",
    "        return 1\n",
    "    elif u>0.1 and u<0.2:\n",
    "        return 2\n",
    "    elif u>0.2 and u<0.5:\n",
    "        return 3\n",
    "    else:\n",
    "        return 4"
   ]
  },
  {
   "cell_type": "code",
   "execution_count": 12,
   "id": "86541194",
   "metadata": {},
   "outputs": [
    {
     "name": "stdout",
     "output_type": "stream",
     "text": [
      "0.12928220588325418\n"
     ]
    }
   ],
   "source": [
    "N=10**6\n",
    "s=0\n",
    "for i in range(N):\n",
    "    x=fdp()\n",
    "    s=s+1/(1+x**2)\n",
    "print(s/N)"
   ]
  },
  {
   "cell_type": "markdown",
   "id": "ca936f69",
   "metadata": {},
   "source": [
    "7-.La variable aleatoria $X$ sigue la siguiente funcion de densidad de probabilidad:<br>\n",
    "$f_x(i)=\\frac{2}{3^i},i=1,2,3,4,...$<br>\n",
    "Estime por simulacion el valor esperado de $X^2$"
   ]
  },
  {
   "cell_type": "markdown",
   "id": "29f1faae",
   "metadata": {},
   "source": [
    "Debemos de crear su funcion de disribucion<br>\n",
    "Tenemos que es una distribucion geometrica con parametro $p=\\frac{2}{3}$<br>\n",
    "$P_k=P\\left(X=k\\right)=p(1-p)^{k-1}$<br>\n",
    "$P_1+P_2+...+P_k=p(1-p)^0+p(1-p)^1+...+p(1-p)^{k-1}$<br>\n",
    "$P_1+P_2+...+P_k=p\\left(1+(1-p)^1+...+(1-p)^{k-1}\\right)$<br>\n",
    "$P_1+P_2+...+P_k=p\\left(\\frac{1-(1-p)^k}{1-(1-p)}\\right)$<br>\n",
    "$P_1+P_2+...+P_k=1-(1-p)^k$<br>\n",
    "Entonces p se debe de contrar entre $1-(1-p)^k$ y entre $1-(1-p)^{k-1}$<br>\n",
    "$1-(1-p)^k<u<1-(1-p)^{k-1}$<br>\n",
    "$-(1-p)^k<u-1<-(1-p)^{k-1}$<br>\n",
    "$(1-p)^{k-1}<1-u<(1-p)^{k}$<br>\n",
    "$(k-1)ln(1-p)<ln(1-u)<kln(1-p)$<br>\n",
    "$k<\\frac{ln(1-u)}{ln(1-p)}<(k-1)$<br>\n",
    "Como se busca el valor de k, entonces tenemos:<br>\n",
    "$k=Int\\left(\\frac{ln(1-u)}{ln(1-p)}\\right)+1$\n",
    "pero como (1-u) sigue siendo igualmente distribuido y aleatorio tenemos:\n",
    "<center>\n",
    "    $k=Int\\left(\\frac{ln(1-u)}{ln(1-p)}\\right)+1$\n",
    "    </center>"
   ]
  },
  {
   "cell_type": "code",
   "execution_count": 13,
   "id": "1edf9eeb",
   "metadata": {},
   "outputs": [],
   "source": [
    "def geometrica2(p):\n",
    "    u=random()\n",
    "    return int(log(u)/log(1-p))+1"
   ]
  },
  {
   "cell_type": "code",
   "execution_count": 14,
   "id": "33925eff",
   "metadata": {},
   "outputs": [
    {
     "name": "stdout",
     "output_type": "stream",
     "text": [
      "2.998665\n"
     ]
    }
   ],
   "source": [
    "s=0\n",
    "for i in range(N):\n",
    "    x=geometrica2(2/3)\n",
    "    s=s+x**2\n",
    "print(s/N)"
   ]
  },
  {
   "cell_type": "markdown",
   "id": "4688cc3b",
   "metadata": {},
   "source": [
    "8-. La variable aleatoria $X$ tiene la siguiente funcion de densidad de probabilidad.<br>\n",
    "$f_x(X)=\\frac{1}{xLn(2)}$ si $x\\in[1,2]$ 0 en caso contrario.\n",
    "<ol>\n",
    "    <li>Estime por simulacion el valor esperado de $\\sqrt{1+X^2}$</li>\n",
    "    <li>Estime por simulacion la probabilidad de que $1.3<X<1.8$</li>\n",
    "</ol>"
   ]
  },
  {
   "cell_type": "markdown",
   "id": "d4754984",
   "metadata": {},
   "source": [
    "<h3> Solución</h3>\n",
    "tenemos la funcion de distribucion como sigue:<br>\n",
    "$F_x(X)=\\int_1^x \\frac{1}{tLn(2)}dt$<br>\n",
    "$F_x(X)=\\frac{Ln(t)}{Ln(2)}|_1^x$<br>\n",
    "$F_x(X)=\\frac{Ln(x)}{Ln(2)}$<br>\n",
    "Por lo cual, tenemos su inversa de la forma:<br>\n",
    "$y=\\frac{Ln(x)}{Ln(2)}$<br>\n",
    "Cuando x=1, tenemos que y=0, cuando x=2, tenemos que y=1<br>\n",
    "$Ln(2)y=Ln(x)$<br>\n",
    "$e^{Ln(2)y}=e^{Ln(x)}$<br>\n",
    "$2^y=x$<br>\n",
    "$F_x^{-1}(X)=2^x\\enspace\\enspace x\\in[0,1]$"
   ]
  },
  {
   "cell_type": "code",
   "execution_count": 15,
   "id": "9f669829",
   "metadata": {},
   "outputs": [
    {
     "name": "stdout",
     "output_type": "stream",
     "text": [
      "El valor esperado es: 1.7630188246832388\n",
      "La probabilidad es: 0.262695\n"
     ]
    }
   ],
   "source": [
    "s=0\n",
    "n=0\n",
    "for i in range(N):\n",
    "    u=random()\n",
    "    x=2**u\n",
    "    s=s+sqrt(1+x**2)\n",
    "    if s/N>1.3 and s/N<1.8:\n",
    "        n+=1\n",
    "print(\"El valor esperado es: {:}\\nLa probabilidad es: {:}\".format(s/N,n/N))\n",
    "        "
   ]
  },
  {
   "cell_type": "markdown",
   "id": "b869648d",
   "metadata": {},
   "source": [
    "9-. Sean $U_1,U_2,...,U_{10}$ variables aleatorias independientes y uniformemente distribuidas en $[0,1]$.\n",
    "Estime pos simulacion el valor esperado de la variable aleatoria M=Maximo{$U_1,U_2,...,U_{10}$}"
   ]
  },
  {
   "cell_type": "code",
   "execution_count": 16,
   "id": "a71396e1",
   "metadata": {},
   "outputs": [
    {
     "name": "stdout",
     "output_type": "stream",
     "text": [
      "0.9090280372314167\n"
     ]
    }
   ],
   "source": [
    "M=0\n",
    "for i in range(N):\n",
    "    u1=random()\n",
    "    u2=random()\n",
    "    u3=random()\n",
    "    u4=random()\n",
    "    u5=random()\n",
    "    u6=random()\n",
    "    u7=random()\n",
    "    u8=random()\n",
    "    u9=random()\n",
    "    u10=random()\n",
    "    M=M+max(u1,u2,u3,u4,u5,u6,u7,u8,u9,u10)\n",
    "print(M/N)"
   ]
  },
  {
   "cell_type": "markdown",
   "id": "6c06d7c5",
   "metadata": {},
   "source": [
    "10-. Sean $X_1,X_2,...,X_5$ variables aleatorias con la siguiente funcion de densidad de probabilidad.\n",
    "$f_x(X)=2x$ si $x\\in[0,1]$, 0 en caso contrario.<br>\n",
    "Estime por simulacion el valor esperado de $X_1^1+X_2^2+...+X_5^2$"
   ]
  },
  {
   "cell_type": "markdown",
   "id": "0659090d",
   "metadata": {},
   "source": [
    "Tenemos la funcion de densidad, por lo cual, usando el metodo de la inversas tenemos:\n",
    "$F_x(X)=\\int_0^x2tdt=t^2|_0^x$<br>\n",
    "$F_x(X)=x^2$<br>\n",
    "$F_x^{-1}(X)=\\sqrt{x}$ con $x\\in[0,1]$\n",
    "Finalmente tenemos:<br>\n",
    "$g(F_x^{-1}(X))=(\\sqrt{x})^2$<br>\n",
    "$g(F_x^{-1}(X))=x$<br>"
   ]
  },
  {
   "cell_type": "code",
   "execution_count": 17,
   "id": "a6fb91f4",
   "metadata": {},
   "outputs": [
    {
     "name": "stdout",
     "output_type": "stream",
     "text": [
      "2.499486305526461\n"
     ]
    }
   ],
   "source": [
    "s=0\n",
    "for i in range(N):\n",
    "    sumpar=sum(random() for i in range(1,6,1))\n",
    "    s=s+sumpar\n",
    "print(s/N)"
   ]
  }
 ],
 "metadata": {
  "kernelspec": {
   "display_name": "Python 3 (ipykernel)",
   "language": "python",
   "name": "python3"
  },
  "language_info": {
   "codemirror_mode": {
    "name": "ipython",
    "version": 3
   },
   "file_extension": ".py",
   "mimetype": "text/x-python",
   "name": "python",
   "nbconvert_exporter": "python",
   "pygments_lexer": "ipython3",
   "version": "3.9.12"
  }
 },
 "nbformat": 4,
 "nbformat_minor": 5
}
